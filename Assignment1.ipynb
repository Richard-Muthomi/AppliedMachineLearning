{
  "nbformat": 4,
  "nbformat_minor": 0,
  "metadata": {
    "colab": {
      "provenance": []
    },
    "kernelspec": {
      "name": "python3",
      "display_name": "Python 3"
    },
    "language_info": {
      "name": "python"
    }
  },
  "cells": [
    {
      "cell_type": "code",
      "execution_count": null,
      "metadata": {
        "id": "Jf0Y219nGcwg"
      },
      "outputs": [],
      "source": []
    },
    {
      "cell_type": "markdown",
      "source": [
        "**LINEAR REGRESSION**\n",
        "\n",
        "It's a classification rather than regression algorithm.\n",
        "\n",
        "It uses an 'S' shaped curve instead of a straight line makes its a natural fit for dividing data into groups\n",
        "\n",
        "In this model, the probabilities describing the possible outcomes of a single trial are modeled using a logistic function.\n",
        "\n",
        "**SIGMOD FUNCTION**\n",
        "\n",
        "o(z)= 1 / 1 + e^(-z)\n",
        "\n",
        "z= h0 (x) = 0^Tx\n",
        "\n",
        "Squash z into (0,1)\n"
      ],
      "metadata": {
        "id": "rm7e5cLrGeWY"
      }
    },
    {
      "cell_type": "code",
      "source": [
        "!pip install -U -q PyDrive2\n",
        "from pydrive2.auth import GoogleAuth\n",
        "from pydrive2.drive import GoogleDrive\n",
        "from google.colab import auth\n",
        "from oauth2client.client import GoogleCredentials\n"
      ],
      "metadata": {
        "colab": {
          "base_uri": "https://localhost:8080/"
        },
        "id": "Jc-sOITbAEvp",
        "outputId": "d15db599-66f7-4758-f13f-39f1cafa11f6"
      },
      "execution_count": 2,
      "outputs": [
        {
          "output_type": "stream",
          "name": "stdout",
          "text": [
            "\u001b[?25l     \u001b[90m━━━━━━━━━━━━━━━━━━━━━━━━━━━━━━━━━━━━━━━━\u001b[0m \u001b[32m0.0/46.7 kB\u001b[0m \u001b[31m?\u001b[0m eta \u001b[36m-:--:--\u001b[0m\r\u001b[2K     \u001b[90m━━━━━━━━━━━━━━━━━━━━━━━━━━━━━━━━━━━━━━━━\u001b[0m \u001b[32m46.7/46.7 kB\u001b[0m \u001b[31m1.1 MB/s\u001b[0m eta \u001b[36m0:00:00\u001b[0m\n",
            "\u001b[?25h"
          ]
        }
      ]
    },
    {
      "cell_type": "code",
      "source": [
        "auth.authenticate_user()\n",
        "gauth = GoogleAuth()\n",
        "gauth.credentials = GoogleCredentials.get_application_default()\n",
        "drive = GoogleDrive(gauth)"
      ],
      "metadata": {
        "id": "hgo2WLX5_UN8"
      },
      "execution_count": 3,
      "outputs": []
    },
    {
      "cell_type": "code",
      "source": [
        "\n",
        "downloaded = drive.CreateFile({'id': '1IPd8i3agLrQ9ydiHRH35lbO_K3CjEdxW'})\n",
        "downloaded.GetContentFile('Assignment1.xlsx')\n"
      ],
      "metadata": {
        "id": "kFxipvWHA_UE"
      },
      "execution_count": 7,
      "outputs": []
    },
    {
      "cell_type": "code",
      "source": [
        "import pandas as pd\n",
        "xyz = pd.read_excel('Assignment1.xlsx')\n",
        "print(xyz)"
      ],
      "metadata": {
        "colab": {
          "base_uri": "https://localhost:8080/"
        },
        "id": "5nM-bSEsDTzu",
        "outputId": "ceb2a020-3343-47c6-b694-91506a54ea58"
      },
      "execution_count": 9,
      "outputs": [
        {
          "output_type": "stream",
          "name": "stdout",
          "text": [
            "        Z           d   inverse\n",
            "0   -6.00  404.428793  0.002473\n",
            "1   -5.98  396.440368  0.002522\n",
            "2   -5.96  388.610124  0.002573\n",
            "3   -5.94  380.934930  0.002625\n",
            "4   -5.92  373.411714  0.002678\n",
            "..    ...         ...       ...\n",
            "596  5.92    1.002685  0.997322\n",
            "597  5.94    1.002632  0.997375\n",
            "598  5.96    1.002580  0.997427\n",
            "599  5.98    1.002529  0.997478\n",
            "600  6.00    1.002479  0.997527\n",
            "\n",
            "[601 rows x 3 columns]\n"
          ]
        }
      ]
    },
    {
      "cell_type": "code",
      "source": [
        "import matplotlib.pyplot as plt\n",
        "from sklearn.linear_model import LinearRegression\n",
        "\n",
        "X_column = 'Z'\n",
        "Y_column = 'inverse'\n",
        "\n",
        "plt.scatter(xyz[X_column], xyz[Y_column], label='Data Points')\n",
        "model = LinearRegression()\n",
        "X = xyz[[X_column]]\n",
        "y = xyz[Y_column]\n",
        "model.fit(X, y)\n",
        "\n",
        "plt.xlabel('Z')\n",
        "plt.ylabel('inverse')\n",
        "plt.title('Linear Regression with S-shaped Chart')\n",
        "plt.legend()\n",
        "plt.show()"
      ],
      "metadata": {
        "colab": {
          "base_uri": "https://localhost:8080/",
          "height": 472
        },
        "id": "ddXimjVKEkUR",
        "outputId": "60dfa43f-5bf3-4d78-8377-3ab7c7f60fee"
      },
      "execution_count": 14,
      "outputs": [
        {
          "output_type": "display_data",
          "data": {
            "text/plain": [
              "<Figure size 640x480 with 1 Axes>"
            ],
            "image/png": "[encoded data removed]"
          },
          "metadata": {}
        }
      ]
    },
    {
      "cell_type": "markdown",
      "source": [],
      "metadata": {
        "id": "vOnG8aTx_VBI"
      }
    }
  ]
}